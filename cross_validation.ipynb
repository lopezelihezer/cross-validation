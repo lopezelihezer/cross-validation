{
 "cells": [
  {
   "cell_type": "markdown",
   "id": "86da1f31-2ddb-4ea0-83ec-47d6df9c4dbb",
   "metadata": {},
   "source": [
    "## Setup"
   ]
  },
  {
   "cell_type": "markdown",
   "id": "9f32a0ba-1196-4b31-a9c3-cacf25573d3a",
   "metadata": {},
   "source": [
    "We'll use the mpg dataset and predict whether a car has automatic or manual transmission."
   ]
  },
  {
   "cell_type": "code",
   "execution_count": 1,
   "id": "5956f40e-49f1-4a8a-9696-fd652b9b5672",
   "metadata": {},
   "outputs": [],
   "source": [
    "import numpy as np\n",
    "import pandas as pd\n",
    "import matplotlib.pyplot as plt\n",
    "import pydataset\n",
    "\n",
    "from sklearn.model_selection import cross_val_score, GridSearchCV, train_test_split\n",
    "from sklearn.tree import DecisionTreeClassifier\n",
    "from sklearn.neighbors import KNeighborsClassifier"
   ]
  },
  {
   "cell_type": "code",
   "execution_count": 2,
   "id": "c507430f-fde1-43d1-9943-a25452dcb312",
   "metadata": {},
   "outputs": [],
   "source": [
    "mpg = pydataset.data('mpg')\n",
    "mpg.trans = np.where(mpg.trans.str.startswith('auto'), 'auto', 'manual')"
   ]
  },
  {
   "cell_type": "code",
   "execution_count": 3,
   "id": "f15de520-e4ea-4779-8b1c-42860c3d71db",
   "metadata": {},
   "outputs": [],
   "source": [
    "X, y = mpg[['displ', 'cyl', 'cty', 'hwy']], mpg.trans"
   ]
  },
  {
   "cell_type": "code",
   "execution_count": 4,
   "id": "4a2933ce-a6de-42d9-b3a3-ed7ae942cf92",
   "metadata": {},
   "outputs": [],
   "source": [
    "X_train, X_test, y_train, y_test = train_test_split(X, y, random_state=123)"
   ]
  },
  {
   "cell_type": "markdown",
   "id": "47497abe-0d11-4e6e-813e-e24330e2fe5d",
   "metadata": {},
   "source": [
    "## `.cross_val_score`"
   ]
  },
  {
   "cell_type": "code",
   "execution_count": 5,
   "id": "fe2322e6-2d6c-41a6-a640-01fc30cc1315",
   "metadata": {},
   "outputs": [
    {
     "data": {
      "text/plain": [
       "0.6114285714285714"
      ]
     },
     "execution_count": 5,
     "metadata": {},
     "output_type": "execute_result"
    }
   ],
   "source": [
    "clf = DecisionTreeClassifier(max_depth=4)\n",
    "cross_val_score(clf, X_train, y_train, cv=5).mean()"
   ]
  },
  {
   "cell_type": "code",
   "execution_count": 8,
   "id": "aa2ab63d-c277-46c7-a2e6-e14e4eca4d17",
   "metadata": {},
   "outputs": [
    {
     "name": "stdout",
     "output_type": "stream",
     "text": [
      " 1 | 0.617\n",
      " 2 | 0.583\n",
      " 3 | 0.600\n",
      " 4 | 0.611\n",
      " 5 | 0.617\n",
      " 6 | 0.657\n",
      " 7 | 0.651\n",
      " 8 | 0.623\n",
      " 9 | 0.629\n",
      "10 | 0.617\n"
     ]
    },
    {
     "ename": "NameError",
     "evalue": "name 'scores' is not defined",
     "output_type": "error",
     "traceback": [
      "\u001b[0;31m---------------------------------------------------------------------------\u001b[0m",
      "\u001b[0;31mNameError\u001b[0m                                 Traceback (most recent call last)",
      "\u001b[0;32m<ipython-input-8-a240840ddb3e>\u001b[0m in \u001b[0;36m<module>\u001b[0;34m\u001b[0m\n\u001b[1;32m      5\u001b[0m     \u001b[0mprint\u001b[0m\u001b[0;34m(\u001b[0m\u001b[0;34mf'{depth:2} | {score:.3f}'\u001b[0m\u001b[0;34m)\u001b[0m\u001b[0;34m\u001b[0m\u001b[0;34m\u001b[0m\u001b[0m\n\u001b[1;32m      6\u001b[0m \u001b[0;34m\u001b[0m\u001b[0m\n\u001b[0;32m----> 7\u001b[0;31m \u001b[0mpd\u001b[0m\u001b[0;34m.\u001b[0m\u001b[0mSeries\u001b[0m\u001b[0;34m(\u001b[0m\u001b[0mscores\u001b[0m\u001b[0;34m)\u001b[0m\u001b[0;34m.\u001b[0m\u001b[0mplot\u001b[0m\u001b[0;34m(\u001b[0m\u001b[0;34m)\u001b[0m\u001b[0;34m\u001b[0m\u001b[0;34m\u001b[0m\u001b[0m\n\u001b[0m\u001b[1;32m      8\u001b[0m \u001b[0mplt\u001b[0m\u001b[0;34m.\u001b[0m\u001b[0mylabel\u001b[0m\u001b[0;34m(\u001b[0m\u001b[0;34m'Accuracy'\u001b[0m\u001b[0;34m)\u001b[0m\u001b[0;34m\u001b[0m\u001b[0;34m\u001b[0m\u001b[0m\n\u001b[1;32m      9\u001b[0m \u001b[0mplt\u001b[0m\u001b[0;34m.\u001b[0m\u001b[0mxlabel\u001b[0m\u001b[0;34m(\u001b[0m\u001b[0;34m'max_depth'\u001b[0m\u001b[0;34m)\u001b[0m\u001b[0;34m\u001b[0m\u001b[0;34m\u001b[0m\u001b[0m\n",
      "\u001b[0;31mNameError\u001b[0m: name 'scores' is not defined"
     ]
    }
   ],
   "source": [
    "# TODO: loop through various depths and plot accuracy against depth\n",
    "for depth in range(1, 11):\n",
    "    clf = DecisionTreeClassifier(max_depth=depth)\n",
    "    score = cross_val_score(clf, X_train, y_train, cv=5).mean()\n",
    "    print(f'{depth:2} | {score:.3f}')\n",
    "    \n",
    "pd.Series(scores).plot()\n",
    "plt.ylabel('Accuracy')\n",
    "plt.xlabel('max_depth')\n",
    "plt.grid()"
   ]
  },
  {
   "cell_type": "code",
   "execution_count": 9,
   "id": "b1c94494-7bdb-4458-94d0-24f59bdef1eb",
   "metadata": {},
   "outputs": [
    {
     "data": {
      "text/plain": [
       "0.46333333333333326"
      ]
     },
     "execution_count": 9,
     "metadata": {},
     "output_type": "execute_result"
    }
   ],
   "source": [
    "# TODO: use a metric other than accuracy\n",
    "from sklearn.metrics import precision_score, make_scorer\n",
    "\n",
    "clf = DecisionTreeClassifier(max_depth=4)\n",
    "cross_val_score(clf, X_train, y_train, cv=5, scoring = make_scorer(precision_score, pos_label='manual')).mean()"
   ]
  },
  {
   "cell_type": "code",
   "execution_count": 11,
   "id": "eb71d6f2-c597-4e12-b5f3-66fb641d29f2",
   "metadata": {},
   "outputs": [
    {
     "name": "stderr",
     "output_type": "stream",
     "text": [
      "/opt/homebrew/anaconda3/lib/python3.8/site-packages/sklearn/metrics/_classification.py:1245: UndefinedMetricWarning: Precision is ill-defined and being set to 0.0 due to no predicted samples. Use `zero_division` parameter to control this behavior.\n",
      "  _warn_prf(average, modifier, msg_start, len(result))\n",
      "/opt/homebrew/anaconda3/lib/python3.8/site-packages/sklearn/metrics/_classification.py:1245: UndefinedMetricWarning: Precision is ill-defined and being set to 0.0 due to no predicted samples. Use `zero_division` parameter to control this behavior.\n",
      "  _warn_prf(average, modifier, msg_start, len(result))\n"
     ]
    },
    {
     "data": {
      "image/png": "[encoded data removed]",
      "text/plain": [
       "<Figure size 432x288 with 1 Axes>"
      ]
     },
     "metadata": {
      "needs_background": "light"
     },
     "output_type": "display_data"
    }
   ],
   "source": [
    "def evaluate_dtree(max_depth):\n",
    "    clf = DecisionTreeClassifier(max_depth=max_depth)\n",
    "    scorer_function = make_scorer(precision_score, pos_label='manual')\n",
    "    return cross_val_score(clf, X_train, y_train, cv=5, scoring=scorer_function).mean()\n",
    "\n",
    "pd.Series({depth: evaluate_dtree(depth) for depth in range(1,16)}).plot()\n",
    "plt.ylabel('Precision')\n",
    "plt.xlabel('max_depth')\n",
    "plt.grid()"
   ]
  },
  {
   "cell_type": "code",
   "execution_count": null,
   "id": "567b587d-a2f4-4985-9a94-db36551a1bed",
   "metadata": {},
   "outputs": [],
   "source": []
  },
  {
   "cell_type": "markdown",
   "id": "d703fff5-38b9-4528-b1a0-0e1bc52cfde2",
   "metadata": {},
   "source": [
    "## Grid Search"
   ]
  },
  {
   "cell_type": "code",
   "execution_count": 12,
   "id": "d0a4b085-161b-4ca3-8ffb-43b5cde1ca52",
   "metadata": {},
   "outputs": [
    {
     "data": {
      "text/plain": [
       "GridSearchCV(cv=5, estimator=KNeighborsClassifier(),\n",
       "             param_grid={'n_neighbors': range(1, 21)})"
      ]
     },
     "execution_count": 12,
     "metadata": {},
     "output_type": "execute_result"
    }
   ],
   "source": [
    "clf = KNeighborsClassifier()\n",
    "grid = GridSearchCV(clf, {'n_neighbors': range(1, 21)}, cv=5)\n",
    "grid.fit(X_train, y_train)"
   ]
  },
  {
   "cell_type": "code",
   "execution_count": 13,
   "id": "6b132639-fbdb-49f6-a0fe-bff83b920841",
   "metadata": {},
   "outputs": [
    {
     "data": {
      "text/plain": [
       "array([0.59428571, 0.62857143, 0.60571429, 0.62857143, 0.61142857,\n",
       "       0.61142857, 0.57142857, 0.62285714, 0.6       , 0.64      ,\n",
       "       0.62285714, 0.65142857, 0.62857143, 0.62285714, 0.64      ,\n",
       "       0.64      , 0.65142857, 0.63428571, 0.61714286, 0.64      ])"
      ]
     },
     "execution_count": 13,
     "metadata": {},
     "output_type": "execute_result"
    }
   ],
   "source": [
    "grid.cv_results_['mean_test_score']"
   ]
  },
  {
   "cell_type": "code",
   "execution_count": 14,
   "id": "056a9d41-1bae-4dfc-a4c4-7269d2d89d88",
   "metadata": {},
   "outputs": [
    {
     "data": {
      "text/plain": [
       "[{'n_neighbors': 1},\n",
       " {'n_neighbors': 2},\n",
       " {'n_neighbors': 3},\n",
       " {'n_neighbors': 4},\n",
       " {'n_neighbors': 5},\n",
       " {'n_neighbors': 6},\n",
       " {'n_neighbors': 7},\n",
       " {'n_neighbors': 8},\n",
       " {'n_neighbors': 9},\n",
       " {'n_neighbors': 10},\n",
       " {'n_neighbors': 11},\n",
       " {'n_neighbors': 12},\n",
       " {'n_neighbors': 13},\n",
       " {'n_neighbors': 14},\n",
       " {'n_neighbors': 15},\n",
       " {'n_neighbors': 16},\n",
       " {'n_neighbors': 17},\n",
       " {'n_neighbors': 18},\n",
       " {'n_neighbors': 19},\n",
       " {'n_neighbors': 20}]"
      ]
     },
     "execution_count": 14,
     "metadata": {},
     "output_type": "execute_result"
    }
   ],
   "source": [
    "grid.cv_results_['params']"
   ]
  },
  {
   "cell_type": "code",
   "execution_count": 15,
   "id": "25c3939e-7c9a-485a-bae5-a4a457a25400",
   "metadata": {},
   "outputs": [
    {
     "data": {
      "text/plain": [
       "(0.6514285714285715, {'n_neighbors': 12})"
      ]
     },
     "execution_count": 15,
     "metadata": {},
     "output_type": "execute_result"
    }
   ],
   "source": [
    "# TODO: look at the best score, params\n",
    "grid.best_score_, grid.best_params_"
   ]
  },
  {
   "cell_type": "code",
   "execution_count": 16,
   "id": "16cc4f5f-1967-454d-a077-526a21a9c6ec",
   "metadata": {},
   "outputs": [
    {
     "data": {
      "text/plain": [
       "KNeighborsClassifier(n_neighbors=12)"
      ]
     },
     "execution_count": 16,
     "metadata": {},
     "output_type": "execute_result"
    }
   ],
   "source": [
    "# TODO: get the best model\n",
    "grid.best_estimator_"
   ]
  },
  {
   "cell_type": "code",
   "execution_count": 17,
   "id": "d8b58770-9b11-4372-b628-647f10df0aff",
   "metadata": {},
   "outputs": [
    {
     "data": {
      "text/plain": [
       "GridSearchCV(cv=10, estimator=DecisionTreeClassifier(),\n",
       "             param_grid={'max_depth': range(1, 21),\n",
       "                         'min_samples_leaf': range(1, 11)})"
      ]
     },
     "execution_count": 17,
     "metadata": {},
     "output_type": "execute_result"
    }
   ],
   "source": [
    "clf = DecisionTreeClassifier()\n",
    "grid = GridSearchCV(clf, {'max_depth': range(1, 21), 'min_samples_leaf': range(1, 11)}, cv=10)\n",
    "grid.fit(X_train, y_train)"
   ]
  },
  {
   "cell_type": "code",
   "execution_count": 20,
   "id": "4a750d2d-2c2e-401d-bdef-76035bfa094c",
   "metadata": {},
   "outputs": [],
   "source": [
    "# grid.cv_results_['params']"
   ]
  },
  {
   "cell_type": "code",
   "execution_count": 21,
   "id": "6f319f3a-0a5d-4fc9-ae94-69bd46a29f3e",
   "metadata": {},
   "outputs": [],
   "source": [
    "results = pd.DataFrame(grid.cv_results_['params'])\n",
    "results['score'] = grid.cv_results_['mean_test_score']"
   ]
  },
  {
   "cell_type": "code",
   "execution_count": 23,
   "id": "57a8a669-3736-4048-ba22-109417460b82",
   "metadata": {},
   "outputs": [
    {
     "data": {
      "text/html": [
       "<div>\n",
       "<style scoped>\n",
       "    .dataframe tbody tr th:only-of-type {\n",
       "        vertical-align: middle;\n",
       "    }\n",
       "\n",
       "    .dataframe tbody tr th {\n",
       "        vertical-align: top;\n",
       "    }\n",
       "\n",
       "    .dataframe thead th {\n",
       "        text-align: right;\n",
       "    }\n",
       "</style>\n",
       "<table border=\"1\" class=\"dataframe\">\n",
       "  <thead>\n",
       "    <tr style=\"text-align: right;\">\n",
       "      <th></th>\n",
       "      <th>max_depth</th>\n",
       "      <th>min_samples_leaf</th>\n",
       "      <th>score</th>\n",
       "    </tr>\n",
       "  </thead>\n",
       "  <tbody>\n",
       "    <tr>\n",
       "      <th>47</th>\n",
       "      <td>5</td>\n",
       "      <td>8</td>\n",
       "      <td>0.638889</td>\n",
       "    </tr>\n",
       "    <tr>\n",
       "      <th>107</th>\n",
       "      <td>11</td>\n",
       "      <td>8</td>\n",
       "      <td>0.638889</td>\n",
       "    </tr>\n",
       "    <tr>\n",
       "      <th>87</th>\n",
       "      <td>9</td>\n",
       "      <td>8</td>\n",
       "      <td>0.638889</td>\n",
       "    </tr>\n",
       "    <tr>\n",
       "      <th>161</th>\n",
       "      <td>17</td>\n",
       "      <td>2</td>\n",
       "      <td>0.639216</td>\n",
       "    </tr>\n",
       "    <tr>\n",
       "      <th>151</th>\n",
       "      <td>16</td>\n",
       "      <td>2</td>\n",
       "      <td>0.639216</td>\n",
       "    </tr>\n",
       "    <tr>\n",
       "      <th>30</th>\n",
       "      <td>4</td>\n",
       "      <td>1</td>\n",
       "      <td>0.639542</td>\n",
       "    </tr>\n",
       "    <tr>\n",
       "      <th>41</th>\n",
       "      <td>5</td>\n",
       "      <td>2</td>\n",
       "      <td>0.643791</td>\n",
       "    </tr>\n",
       "    <tr>\n",
       "      <th>54</th>\n",
       "      <td>6</td>\n",
       "      <td>5</td>\n",
       "      <td>0.643791</td>\n",
       "    </tr>\n",
       "    <tr>\n",
       "      <th>42</th>\n",
       "      <td>5</td>\n",
       "      <td>3</td>\n",
       "      <td>0.644444</td>\n",
       "    </tr>\n",
       "    <tr>\n",
       "      <th>177</th>\n",
       "      <td>18</td>\n",
       "      <td>8</td>\n",
       "      <td>0.644771</td>\n",
       "    </tr>\n",
       "    <tr>\n",
       "      <th>127</th>\n",
       "      <td>13</td>\n",
       "      <td>8</td>\n",
       "      <td>0.644771</td>\n",
       "    </tr>\n",
       "    <tr>\n",
       "      <th>28</th>\n",
       "      <td>3</td>\n",
       "      <td>9</td>\n",
       "      <td>0.645098</td>\n",
       "    </tr>\n",
       "    <tr>\n",
       "      <th>39</th>\n",
       "      <td>4</td>\n",
       "      <td>10</td>\n",
       "      <td>0.645098</td>\n",
       "    </tr>\n",
       "    <tr>\n",
       "      <th>50</th>\n",
       "      <td>6</td>\n",
       "      <td>1</td>\n",
       "      <td>0.650000</td>\n",
       "    </tr>\n",
       "    <tr>\n",
       "      <th>101</th>\n",
       "      <td>11</td>\n",
       "      <td>2</td>\n",
       "      <td>0.650000</td>\n",
       "    </tr>\n",
       "    <tr>\n",
       "      <th>40</th>\n",
       "      <td>5</td>\n",
       "      <td>1</td>\n",
       "      <td>0.666667</td>\n",
       "    </tr>\n",
       "    <tr>\n",
       "      <th>70</th>\n",
       "      <td>8</td>\n",
       "      <td>1</td>\n",
       "      <td>0.679739</td>\n",
       "    </tr>\n",
       "    <tr>\n",
       "      <th>180</th>\n",
       "      <td>19</td>\n",
       "      <td>1</td>\n",
       "      <td>0.695425</td>\n",
       "    </tr>\n",
       "    <tr>\n",
       "      <th>80</th>\n",
       "      <td>9</td>\n",
       "      <td>1</td>\n",
       "      <td>0.696078</td>\n",
       "    </tr>\n",
       "    <tr>\n",
       "      <th>60</th>\n",
       "      <td>7</td>\n",
       "      <td>1</td>\n",
       "      <td>0.696078</td>\n",
       "    </tr>\n",
       "    <tr>\n",
       "      <th>90</th>\n",
       "      <td>10</td>\n",
       "      <td>1</td>\n",
       "      <td>0.696405</td>\n",
       "    </tr>\n",
       "    <tr>\n",
       "      <th>190</th>\n",
       "      <td>20</td>\n",
       "      <td>1</td>\n",
       "      <td>0.700980</td>\n",
       "    </tr>\n",
       "    <tr>\n",
       "      <th>160</th>\n",
       "      <td>17</td>\n",
       "      <td>1</td>\n",
       "      <td>0.700980</td>\n",
       "    </tr>\n",
       "    <tr>\n",
       "      <th>130</th>\n",
       "      <td>14</td>\n",
       "      <td>1</td>\n",
       "      <td>0.701307</td>\n",
       "    </tr>\n",
       "    <tr>\n",
       "      <th>170</th>\n",
       "      <td>18</td>\n",
       "      <td>1</td>\n",
       "      <td>0.707190</td>\n",
       "    </tr>\n",
       "    <tr>\n",
       "      <th>140</th>\n",
       "      <td>15</td>\n",
       "      <td>1</td>\n",
       "      <td>0.707516</td>\n",
       "    </tr>\n",
       "    <tr>\n",
       "      <th>150</th>\n",
       "      <td>16</td>\n",
       "      <td>1</td>\n",
       "      <td>0.707516</td>\n",
       "    </tr>\n",
       "    <tr>\n",
       "      <th>100</th>\n",
       "      <td>11</td>\n",
       "      <td>1</td>\n",
       "      <td>0.712745</td>\n",
       "    </tr>\n",
       "    <tr>\n",
       "      <th>120</th>\n",
       "      <td>13</td>\n",
       "      <td>1</td>\n",
       "      <td>0.712745</td>\n",
       "    </tr>\n",
       "    <tr>\n",
       "      <th>110</th>\n",
       "      <td>12</td>\n",
       "      <td>1</td>\n",
       "      <td>0.724510</td>\n",
       "    </tr>\n",
       "  </tbody>\n",
       "</table>\n",
       "</div>"
      ],
      "text/plain": [
       "     max_depth  min_samples_leaf     score\n",
       "47           5                 8  0.638889\n",
       "107         11                 8  0.638889\n",
       "87           9                 8  0.638889\n",
       "161         17                 2  0.639216\n",
       "151         16                 2  0.639216\n",
       "30           4                 1  0.639542\n",
       "41           5                 2  0.643791\n",
       "54           6                 5  0.643791\n",
       "42           5                 3  0.644444\n",
       "177         18                 8  0.644771\n",
       "127         13                 8  0.644771\n",
       "28           3                 9  0.645098\n",
       "39           4                10  0.645098\n",
       "50           6                 1  0.650000\n",
       "101         11                 2  0.650000\n",
       "40           5                 1  0.666667\n",
       "70           8                 1  0.679739\n",
       "180         19                 1  0.695425\n",
       "80           9                 1  0.696078\n",
       "60           7                 1  0.696078\n",
       "90          10                 1  0.696405\n",
       "190         20                 1  0.700980\n",
       "160         17                 1  0.700980\n",
       "130         14                 1  0.701307\n",
       "170         18                 1  0.707190\n",
       "140         15                 1  0.707516\n",
       "150         16                 1  0.707516\n",
       "100         11                 1  0.712745\n",
       "120         13                 1  0.712745\n",
       "110         12                 1  0.724510"
      ]
     },
     "execution_count": 23,
     "metadata": {},
     "output_type": "execute_result"
    }
   ],
   "source": [
    "results.sort_values(by='score').tail(30)"
   ]
  },
  {
   "cell_type": "code",
   "execution_count": null,
   "id": "90534bd7-d94b-4781-8e84-bc65ab031ba2",
   "metadata": {},
   "outputs": [],
   "source": [
    "# TODO: get all the info into one list of dicts"
   ]
  },
  {
   "cell_type": "code",
   "execution_count": null,
   "id": "9e4b25dc-2e6b-484d-89ae-19e5ef229a7b",
   "metadata": {},
   "outputs": [],
   "source": [
    "# TODO: convert to a dataframe"
   ]
  },
  {
   "cell_type": "markdown",
   "id": "3d91b27e-eb79-4f7a-98dd-2e608ea963b7",
   "metadata": {},
   "source": [
    "## Exercise\n",
    "\n",
    "1. Use the cross validation techniques described in the lesson to find the best model for predicting transmission type with the mpg dataset.\n",
    "1. Use cross validation techniques to determine the best model for predicting survival with the titanic dataset.\n",
    "1. Use cross validation techniques to determine the best model for predicting tip amount with the tips dataset."
   ]
  }
 ],
 "metadata": {
  "kernelspec": {
   "display_name": "Python 3",
   "language": "python",
   "name": "python3"
  },
  "language_info": {
   "codemirror_mode": {
    "name": "ipython",
    "version": 3
   },
   "file_extension": ".py",
   "mimetype": "text/x-python",
   "name": "python",
   "nbconvert_exporter": "python",
   "pygments_lexer": "ipython3",
   "version": "3.8.8"
  }
 },
 "nbformat": 4,
 "nbformat_minor": 5
}
